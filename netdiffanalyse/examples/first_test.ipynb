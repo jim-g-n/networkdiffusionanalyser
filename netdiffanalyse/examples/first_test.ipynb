{
 "cells": [
  {
   "cell_type": "code",
   "execution_count": 1,
   "id": "b7c11e28",
   "metadata": {},
   "outputs": [],
   "source": [
    "import sys\n",
    "sys.path.append(\"C:/Users/jnevin/Documents/GitHub/networkdiffusionanalyser\")\n",
    "\n",
    "from netdiffanalyse.datahandling.dataintegration_updated import FeatureSetup, MatchClassifierFit, NetworkIntegration"
   ]
  },
  {
   "cell_type": "code",
   "execution_count": 2,
   "id": "7eb8bed0",
   "metadata": {},
   "outputs": [],
   "source": [
    "import pandas as pd\n",
    "import numpy as np\n",
    "import networkx as nx\n",
    "\n",
    "test_df = pd.read_csv('test_df.csv')\n",
    "test_df.index = test_df.rec_id\n",
    "test_df = test_df.drop(columns = ['rec_id'])\n",
    "\n",
    "test_matches = np.load('test_matches.npy', allow_pickle = True)\n",
    "test_matches = pd.MultiIndex.from_tuples(test_matches)\n",
    "\n",
    "test_graph = nx.read_gml('test_graph.gml')"
   ]
  },
  {
   "cell_type": "code",
   "execution_count": 3,
   "id": "88886775",
   "metadata": {},
   "outputs": [],
   "source": [
    "test_blocks = {'Block': [['given_name', 'given_name']]}\n",
    "test_compares = {'Exact':  [['given_name', 'given_name'], ['date_of_birth', 'date_of_birth'],\n",
    "                          ['suburb', 'suburb'], ['state', 'state']],\n",
    "                'String': [['surname', 'surname', 'jarowinkler', 0.85], ['address_1', 'address_1', 'levenshtein', 0.85]]}"
   ]
  },
  {
   "cell_type": "code",
   "execution_count": 4,
   "id": "716cd08a",
   "metadata": {},
   "outputs": [],
   "source": [
    "test_feature_setup = FeatureSetup(test_blocks, test_compares, test_df)"
   ]
  },
  {
   "cell_type": "code",
   "execution_count": 5,
   "id": "af28ed17",
   "metadata": {},
   "outputs": [],
   "source": [
    "test_feature_setup.initialise_indexer()\n",
    "test_feature_setup.get_candidate_links()"
   ]
  },
  {
   "cell_type": "code",
   "execution_count": 6,
   "id": "643da1c0",
   "metadata": {},
   "outputs": [
    {
     "data": {
      "text/plain": [
       "2082"
      ]
     },
     "execution_count": 6,
     "metadata": {},
     "output_type": "execute_result"
    }
   ],
   "source": [
    "len(test_feature_setup.candidate_links) # 2082"
   ]
  },
  {
   "cell_type": "code",
   "execution_count": 7,
   "id": "3a909dfb",
   "metadata": {},
   "outputs": [],
   "source": [
    "test_feature_setup.initialise_comparer()\n",
    "test_feature_setup.calculate_features()"
   ]
  },
  {
   "cell_type": "code",
   "execution_count": 8,
   "id": "79686251",
   "metadata": {},
   "outputs": [
    {
     "data": {
      "text/plain": [
       "6.0     142\n",
       "5.0     145\n",
       "4.0      30\n",
       "3.0       9\n",
       "2.0     376\n",
       "1.0    1380\n",
       "dtype: int64"
      ]
     },
     "execution_count": 8,
     "metadata": {},
     "output_type": "execute_result"
    }
   ],
   "source": [
    "test_feature_setup.features.sum(axis=1).value_counts().sort_index(ascending=False) # 142, 145, 30, 9, 376, 1380"
   ]
  },
  {
   "cell_type": "code",
   "execution_count": 9,
   "id": "ff0411de",
   "metadata": {},
   "outputs": [],
   "source": [
    "test_classifier = MatchClassifierFit('NaiveBayesClassifier', test_feature_setup.features, test_matches)\n",
    "test_classifier.fit_model()"
   ]
  },
  {
   "cell_type": "code",
   "execution_count": 10,
   "id": "bcbd8b58",
   "metadata": {},
   "outputs": [
    {
     "data": {
      "text/plain": [
       "MultiIndex([('rec-122-dup-0',   'rec-122-org'),\n",
       "            (  'rec-183-org', 'rec-183-dup-0'),\n",
       "            ('rec-248-dup-0',   'rec-248-org'),\n",
       "            ('rec-469-dup-0',   'rec-469-org'),\n",
       "            ('rec-373-dup-0',   'rec-373-org'),\n",
       "            (   'rec-10-org',  'rec-10-dup-0'),\n",
       "            ('rec-342-dup-0',   'rec-342-org'),\n",
       "            (  'rec-397-org', 'rec-397-dup-0'),\n",
       "            (  'rec-472-org', 'rec-472-dup-0'),\n",
       "            (  'rec-330-org', 'rec-330-dup-0'),\n",
       "            ...\n",
       "            (  'rec-5-dup-0',     'rec-5-org'),\n",
       "            ('rec-407-dup-0',   'rec-407-org'),\n",
       "            ('rec-367-dup-0',   'rec-367-org'),\n",
       "            ('rec-103-dup-0',   'rec-103-org'),\n",
       "            ('rec-195-dup-0',   'rec-195-org'),\n",
       "            ('rec-184-dup-0',   'rec-184-org'),\n",
       "            (  'rec-252-org', 'rec-252-dup-0'),\n",
       "            ( 'rec-48-dup-0',    'rec-48-org'),\n",
       "            ('rec-298-dup-0',   'rec-298-org'),\n",
       "            (  'rec-282-org', 'rec-282-dup-0')],\n",
       "           names=['rec_id_1', 'rec_id_2'], length=326)"
      ]
     },
     "execution_count": 10,
     "metadata": {},
     "output_type": "execute_result"
    }
   ],
   "source": [
    "test_classifier.pred_matches(test_feature_setup.features)"
   ]
  },
  {
   "cell_type": "code",
   "execution_count": 11,
   "id": "43e1f49c",
   "metadata": {},
   "outputs": [],
   "source": [
    "test_network_integrator = NetworkIntegration(test_graph, test_classifier.pred_matches(test_feature_setup.features),\n",
    "                                             'walktrap_integration')"
   ]
  },
  {
   "cell_type": "code",
   "execution_count": 12,
   "id": "72e119b0",
   "metadata": {},
   "outputs": [],
   "source": [
    "test_network_integrator.integrate_network()"
   ]
  },
  {
   "cell_type": "code",
   "execution_count": 14,
   "id": "3447d8c7",
   "metadata": {},
   "outputs": [],
   "source": [
    "org_graph = test_network_integrator.graph\n",
    "adj_graph = test_network_integrator.adj_graph"
   ]
  },
  {
   "cell_type": "code",
   "execution_count": 16,
   "id": "405e27e3",
   "metadata": {},
   "outputs": [
    {
     "data": {
      "text/plain": [
       "646"
      ]
     },
     "execution_count": 16,
     "metadata": {},
     "output_type": "execute_result"
    }
   ],
   "source": [
    "len(adj_graph.nodes()) # 646"
   ]
  },
  {
   "cell_type": "code",
   "execution_count": 17,
   "id": "37235b66",
   "metadata": {},
   "outputs": [
    {
     "data": {
      "text/plain": [
       "922"
      ]
     },
     "execution_count": 17,
     "metadata": {},
     "output_type": "execute_result"
    }
   ],
   "source": [
    "len(org_graph.nodes()) # 922"
   ]
  },
  {
   "cell_type": "code",
   "execution_count": null,
   "id": "91e23689",
   "metadata": {},
   "outputs": [],
   "source": []
  },
  {
   "cell_type": "code",
   "execution_count": null,
   "id": "4abb4f22",
   "metadata": {},
   "outputs": [],
   "source": []
  },
  {
   "cell_type": "code",
   "execution_count": null,
   "id": "bc529419",
   "metadata": {},
   "outputs": [],
   "source": []
  },
  {
   "cell_type": "code",
   "execution_count": null,
   "id": "997ab4a2",
   "metadata": {},
   "outputs": [],
   "source": []
  }
 ],
 "metadata": {
  "kernelspec": {
   "display_name": "Python 3 (ipykernel)",
   "language": "python",
   "name": "python3"
  },
  "language_info": {
   "codemirror_mode": {
    "name": "ipython",
    "version": 3
   },
   "file_extension": ".py",
   "mimetype": "text/x-python",
   "name": "python",
   "nbconvert_exporter": "python",
   "pygments_lexer": "ipython3",
   "version": "3.8.8"
  }
 },
 "nbformat": 4,
 "nbformat_minor": 5
}
