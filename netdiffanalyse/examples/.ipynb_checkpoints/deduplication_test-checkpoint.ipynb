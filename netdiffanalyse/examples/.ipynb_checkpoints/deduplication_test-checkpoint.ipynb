{
 "cells": [
  {
   "cell_type": "code",
   "execution_count": null,
   "id": "2590b582",
   "metadata": {},
   "outputs": [],
   "source": [
    "# s = setup(graphs, blocks, compares)\n",
    "# mc = MatchClassifier(s)\n",
    "# model = mc.fit()\n",
    "# pred_matches = model.predict(node_pairs)\n",
    "# integrated_graph = integrate_network(pred_matches, graph)\n",
    "# integrate_networks(setup)"
   ]
  },
  {
   "cell_type": "code",
   "execution_count": 1,
   "id": "df3ff9e8",
   "metadata": {},
   "outputs": [],
   "source": [
    "import sys\n",
    "sys.path.append(\"C:/Users/jnevin/Documents/GitHub/networkdiffusionanalyser\")\n",
    "\n",
    "#from netdiffanalyse.integration_pipeline import IntegrationPipeline\n",
    "import netdiffanalyse\n",
    "from bokeh.io import output_notebook, show\n",
    "from ndlib.viz.bokeh.DiffusionTrend import DiffusionTrend"
   ]
  },
  {
   "cell_type": "code",
   "execution_count": 2,
   "id": "a9cd3833",
   "metadata": {},
   "outputs": [],
   "source": [
    "import pandas as pd\n",
    "import numpy as np\n",
    "import networkx as nx\n",
    "\n",
    "test_df = pd.read_csv('dedup_test_df.csv')\n",
    "test_df.index = test_df.rec_id\n",
    "test_df = test_df.drop(columns = ['rec_id'])\n",
    "\n",
    "test_matches = np.load('dedup_test_matches.npy', allow_pickle = True)\n",
    "test_matches = pd.MultiIndex.from_tuples(test_matches)\n",
    "\n",
    "test_graph = nx.read_gml('dedup_test_graph.gml')"
   ]
  },
  {
   "cell_type": "code",
   "execution_count": 3,
   "id": "d39f15e2",
   "metadata": {},
   "outputs": [],
   "source": [
    "test_dict = test_df.to_dict()\n",
    "full_graph_attr = test_graph.copy()\n",
    "\n",
    "for attribute in test_dict:\n",
    "    nx.set_node_attributes(full_graph_attr, test_dict[attribute], attribute)"
   ]
  },
  {
   "cell_type": "code",
   "execution_count": 4,
   "id": "63cc83bf",
   "metadata": {},
   "outputs": [],
   "source": [
    "graphs = [full_graph_attr]\n",
    "test_blocks = {'Block': [['given_name', 'given_name']]}\n",
    "test_compares = {'Exact':  [['given_name', 'given_name'], ['date_of_birth', 'date_of_birth'],\n",
    "                          ['suburb', 'suburb'], ['state', 'state']],\n",
    "                'String': [['surname', 'surname', 'jarowinkler', 0.85], ['address_1', 'address_1', 'levenshtein', 0.85]]}\n",
    "classifier_name = 'NaiveBayesClassifier'\n",
    "clustering_alg = 'walktrap_integration'\n",
    "statuses = ['Susceptible', 'Infected', 'Removed']\n",
    "compartments = {'NodeStochastic': {'c1': [0.02, 'Infected'], 'c2': [0.01]}}\n",
    "transition_rules = [[\"Susceptible\", \"Infected\", \"c1\"], [\"Infected\", \"Removed\", \"c2\"]]\n",
    "model_parameters = [['fraction_infected', 0.1]]\n",
    "simulation_parameters = [10, 300, None, 4]\n",
    "model_name = 'sir'\n",
    "training_matches = test_matches"
   ]
  },
  {
   "cell_type": "code",
   "execution_count": null,
   "id": "215727c4",
   "metadata": {},
   "outputs": [],
   "source": [
    "integration_pipeline = netdiffanalyse.IntegrationPipeline(graphs, test_blocks, test_compares, classifier_name,\n",
    "                     clustering_alg, statuses, compartments, transition_rules,\n",
    "                     model_parameters, simulation_parameters, model_name = model_name,\n",
    "                     training_matches = training_matches)"
   ]
  },
  {
   "cell_type": "code",
   "execution_count": null,
   "id": "c47078e1",
   "metadata": {},
   "outputs": [],
   "source": [
    "from ndlib.viz.mpl.DiffusionTrend import DiffusionTrend\n",
    "\n",
    "viz = DiffusionTrend(integration_pipeline.model, integration_pipeline.trends)\n",
    "viz.plot(\"diffusion.pdf\", percentile=90)"
   ]
  },
  {
   "cell_type": "code",
   "execution_count": null,
   "id": "c5e6f144",
   "metadata": {},
   "outputs": [],
   "source": []
  },
  {
   "cell_type": "code",
   "execution_count": null,
   "id": "f050f0ec",
   "metadata": {},
   "outputs": [],
   "source": []
  },
  {
   "cell_type": "code",
   "execution_count": null,
   "id": "b7c11e28",
   "metadata": {},
   "outputs": [],
   "source": [
    "# step-by-step"
   ]
  },
  {
   "cell_type": "code",
   "execution_count": null,
   "id": "7eb8bed0",
   "metadata": {},
   "outputs": [],
   "source": [
    "from netdiffanalyse.datahandling.dataintegration import FeatureSetup, MatchClassifier, NetworkIntegrator\n",
    "from netdiffanalyse.diffusionmodel.diffusionmodel import CustomDiffusionModel, InitialisedDiffusionModel\n",
    "from netdiffanalyse.analyser.networkanalysis import ResultsAnalyser"
   ]
  },
  {
   "cell_type": "code",
   "execution_count": null,
   "id": "baa676b3",
   "metadata": {},
   "outputs": [],
   "source": [
    "# data integration"
   ]
  },
  {
   "cell_type": "code",
   "execution_count": null,
   "id": "88886775",
   "metadata": {},
   "outputs": [],
   "source": [
    "test_blocks = {'Block': [['given_name', 'given_name']]}\n",
    "test_compares = {'Exact':  [['given_name', 'given_name'], ['date_of_birth', 'date_of_birth'],\n",
    "                          ['suburb', 'suburb'], ['state', 'state']],\n",
    "                'String': [['surname', 'surname', 'jarowinkler', 0.85], ['address_1', 'address_1', 'levenshtein', 0.85]]}"
   ]
  },
  {
   "cell_type": "code",
   "execution_count": null,
   "id": "716cd08a",
   "metadata": {},
   "outputs": [],
   "source": [
    "test_feature_setup = FeatureSetup(test_blocks, test_compares, test_df)"
   ]
  },
  {
   "cell_type": "code",
   "execution_count": null,
   "id": "643da1c0",
   "metadata": {},
   "outputs": [],
   "source": [
    "len(test_feature_setup.candidate_links) # 2082"
   ]
  },
  {
   "cell_type": "code",
   "execution_count": null,
   "id": "3a909dfb",
   "metadata": {},
   "outputs": [],
   "source": [
    "test_features = test_feature_setup.calculate_features()"
   ]
  },
  {
   "cell_type": "code",
   "execution_count": null,
   "id": "79686251",
   "metadata": {},
   "outputs": [],
   "source": [
    "test_features.sum(axis=1).value_counts().sort_index(ascending=False) # 142, 145, 30, 9, 376, 1380"
   ]
  },
  {
   "cell_type": "code",
   "execution_count": null,
   "id": "ff0411de",
   "metadata": {},
   "outputs": [],
   "source": [
    "test_classifier = MatchClassifier('NaiveBayesClassifier', test_features, test_matches)\n",
    "classifier_model = test_classifier.fit_model()\n",
    "pred_matches = classifier_model.predict(test_features)"
   ]
  },
  {
   "cell_type": "code",
   "execution_count": null,
   "id": "43e1f49c",
   "metadata": {},
   "outputs": [],
   "source": [
    "test_network_integrator = NetworkIntegrator(test_graph, pred_matches,\n",
    "                                             'walktrap_integration')"
   ]
  },
  {
   "cell_type": "code",
   "execution_count": null,
   "id": "3447d8c7",
   "metadata": {},
   "outputs": [],
   "source": [
    "org_graph = test_network_integrator.graphs\n",
    "adj_graph = test_network_integrator.integrate_network()"
   ]
  },
  {
   "cell_type": "code",
   "execution_count": null,
   "id": "405e27e3",
   "metadata": {},
   "outputs": [],
   "source": [
    "len(adj_graph.nodes()) # 646"
   ]
  },
  {
   "cell_type": "code",
   "execution_count": null,
   "id": "37235b66",
   "metadata": {},
   "outputs": [],
   "source": [
    "len(org_graph.nodes()) # 922"
   ]
  },
  {
   "cell_type": "code",
   "execution_count": null,
   "id": "5da56cd7",
   "metadata": {},
   "outputs": [],
   "source": []
  },
  {
   "cell_type": "code",
   "execution_count": null,
   "id": "2f14d37a",
   "metadata": {},
   "outputs": [],
   "source": [
    "# diffusion model"
   ]
  },
  {
   "cell_type": "code",
   "execution_count": null,
   "id": "91e23689",
   "metadata": {},
   "outputs": [],
   "source": [
    "model_name = 'sir'\n",
    "statuses = ['Susceptible', 'Infected', 'Removed']\n",
    "compartments = {'NodeStochastic': {'c1': [0.02, 'Infected'], 'c2': [0.01]}}\n",
    "rules = [[\"Susceptible\", \"Infected\", \"c1\"], [\"Infected\", \"Removed\", \"c2\"]]\n",
    "parameters = [['fraction_infected', 0.1]]"
   ]
  },
  {
   "cell_type": "code",
   "execution_count": null,
   "id": "14aa32e5",
   "metadata": {},
   "outputs": [],
   "source": [
    "custom_diffusion_model = CustomDiffusionModel(statuses, compartments,\n",
    "                                             rules, parameters)"
   ]
  },
  {
   "cell_type": "code",
   "execution_count": null,
   "id": "769754f6",
   "metadata": {},
   "outputs": [],
   "source": [
    "initialised_diffusion_model = InitialisedDiffusionModel(adj_graph, custom_diffusion_model)"
   ]
  },
  {
   "cell_type": "code",
   "execution_count": null,
   "id": "b3d3fb32",
   "metadata": {},
   "outputs": [],
   "source": [
    "results_analyser = ResultsAnalyser(initialised_diffusion_model.graph, \n",
    "                                   initialised_diffusion_model.run_diffusion_model([10, 300, None, 4]))"
   ]
  },
  {
   "cell_type": "code",
   "execution_count": null,
   "id": "d94e1073",
   "metadata": {},
   "outputs": [],
   "source": [
    "results_analyser.get_graph_properties()"
   ]
  },
  {
   "cell_type": "code",
   "execution_count": null,
   "id": "c32e08cb",
   "metadata": {},
   "outputs": [],
   "source": []
  },
  {
   "cell_type": "code",
   "execution_count": null,
   "id": "fd76c94b",
   "metadata": {},
   "outputs": [],
   "source": []
  },
  {
   "cell_type": "code",
   "execution_count": null,
   "id": "4e4573b0",
   "metadata": {},
   "outputs": [],
   "source": []
  },
  {
   "cell_type": "code",
   "execution_count": null,
   "id": "da490ab3",
   "metadata": {},
   "outputs": [],
   "source": []
  },
  {
   "cell_type": "code",
   "execution_count": null,
   "id": "0a6d9b70",
   "metadata": {},
   "outputs": [],
   "source": [
    "from ndlib.viz.mpl.DiffusionTrend import DiffusionTrend\n",
    "\n",
    "viz = DiffusionTrend(initialised_diffusion_model.model, initialised_diffusion_model.run_diffusion_model([10, 300, None, 4]))\n",
    "viz.plot(\"diffusion.pdf\", percentile=90)"
   ]
  },
  {
   "cell_type": "code",
   "execution_count": null,
   "id": "0e29d670",
   "metadata": {},
   "outputs": [],
   "source": []
  }
 ],
 "metadata": {
  "kernelspec": {
   "display_name": "Python 3 (ipykernel)",
   "language": "python",
   "name": "python3"
  },
  "language_info": {
   "codemirror_mode": {
    "name": "ipython",
    "version": 3
   },
   "file_extension": ".py",
   "mimetype": "text/x-python",
   "name": "python",
   "nbconvert_exporter": "python",
   "pygments_lexer": "ipython3",
   "version": "3.8.8"
  }
 },
 "nbformat": 4,
 "nbformat_minor": 5
}
