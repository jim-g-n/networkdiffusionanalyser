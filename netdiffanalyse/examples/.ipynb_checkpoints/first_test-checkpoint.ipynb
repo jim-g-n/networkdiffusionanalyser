{
 "cells": [
  {
   "cell_type": "code",
   "execution_count": 1,
   "id": "b7c11e28",
   "metadata": {},
   "outputs": [],
   "source": [
    "import sys\n",
    "sys.path.append(\"C:/Users/jnevin/Documents/GitHub/networkdiffusionanalyser\")\n",
    "\n",
    "from netdiffanalyse.datahandling.dataintegration import FeatureSetup, MatchClassifierFit, NetworkIntegration\n",
    "from netdiffanalyse.diffusionmodel.diffusionmodel import CustomDiffusionModel, InitialisedDiffusionModel, RunDiffusionModel\n",
    "from bokeh.io import output_notebook, show\n",
    "from ndlib.viz.bokeh.DiffusionTrend import DiffusionTrend"
   ]
  },
  {
   "cell_type": "code",
   "execution_count": 2,
   "id": "7eb8bed0",
   "metadata": {},
   "outputs": [],
   "source": [
    "import pandas as pd\n",
    "import numpy as np\n",
    "import networkx as nx\n",
    "\n",
    "test_df = pd.read_csv('test_df.csv')\n",
    "test_df.index = test_df.rec_id\n",
    "test_df = test_df.drop(columns = ['rec_id'])\n",
    "\n",
    "test_matches = np.load('test_matches.npy', allow_pickle = True)\n",
    "test_matches = pd.MultiIndex.from_tuples(test_matches)\n",
    "\n",
    "test_graph = nx.read_gml('test_graph.gml')"
   ]
  },
  {
   "cell_type": "code",
   "execution_count": null,
   "id": "3aeedf59",
   "metadata": {},
   "outputs": [],
   "source": []
  },
  {
   "cell_type": "code",
   "execution_count": 3,
   "id": "2d046740",
   "metadata": {},
   "outputs": [],
   "source": [
    "# data integration"
   ]
  },
  {
   "cell_type": "code",
   "execution_count": 4,
   "id": "88886775",
   "metadata": {},
   "outputs": [],
   "source": [
    "test_blocks = {'Block': [['given_name', 'given_name']]}\n",
    "test_compares = {'Exact':  [['given_name', 'given_name'], ['date_of_birth', 'date_of_birth'],\n",
    "                          ['suburb', 'suburb'], ['state', 'state']],\n",
    "                'String': [['surname', 'surname', 'jarowinkler', 0.85], ['address_1', 'address_1', 'levenshtein', 0.85]]}"
   ]
  },
  {
   "cell_type": "code",
   "execution_count": 5,
   "id": "716cd08a",
   "metadata": {},
   "outputs": [],
   "source": [
    "test_feature_setup = FeatureSetup(test_blocks, test_compares, test_df)"
   ]
  },
  {
   "cell_type": "code",
   "execution_count": 6,
   "id": "af28ed17",
   "metadata": {},
   "outputs": [],
   "source": [
    "test_feature_setup.initialise_indexer()\n",
    "test_feature_setup.get_candidate_links()"
   ]
  },
  {
   "cell_type": "code",
   "execution_count": 7,
   "id": "643da1c0",
   "metadata": {},
   "outputs": [
    {
     "data": {
      "text/plain": [
       "2082"
      ]
     },
     "execution_count": 7,
     "metadata": {},
     "output_type": "execute_result"
    }
   ],
   "source": [
    "len(test_feature_setup.candidate_links) # 2082"
   ]
  },
  {
   "cell_type": "code",
   "execution_count": 8,
   "id": "3a909dfb",
   "metadata": {},
   "outputs": [],
   "source": [
    "test_feature_setup.initialise_comparer()\n",
    "test_feature_setup.calculate_features()"
   ]
  },
  {
   "cell_type": "code",
   "execution_count": 9,
   "id": "79686251",
   "metadata": {},
   "outputs": [
    {
     "data": {
      "text/plain": [
       "6.0     142\n",
       "5.0     145\n",
       "4.0      30\n",
       "3.0       9\n",
       "2.0     376\n",
       "1.0    1380\n",
       "dtype: int64"
      ]
     },
     "execution_count": 9,
     "metadata": {},
     "output_type": "execute_result"
    }
   ],
   "source": [
    "test_feature_setup.features.sum(axis=1).value_counts().sort_index(ascending=False) # 142, 145, 30, 9, 376, 1380"
   ]
  },
  {
   "cell_type": "code",
   "execution_count": 10,
   "id": "ff0411de",
   "metadata": {},
   "outputs": [],
   "source": [
    "test_classifier = MatchClassifierFit('NaiveBayesClassifier', test_feature_setup.features, test_matches)\n",
    "test_classifier.fit_model()"
   ]
  },
  {
   "cell_type": "code",
   "execution_count": 11,
   "id": "bcbd8b58",
   "metadata": {},
   "outputs": [
    {
     "data": {
      "text/plain": [
       "MultiIndex([('rec-122-dup-0',   'rec-122-org'),\n",
       "            (  'rec-183-org', 'rec-183-dup-0'),\n",
       "            ('rec-248-dup-0',   'rec-248-org'),\n",
       "            ('rec-469-dup-0',   'rec-469-org'),\n",
       "            ('rec-373-dup-0',   'rec-373-org'),\n",
       "            (   'rec-10-org',  'rec-10-dup-0'),\n",
       "            ('rec-342-dup-0',   'rec-342-org'),\n",
       "            (  'rec-397-org', 'rec-397-dup-0'),\n",
       "            (  'rec-472-org', 'rec-472-dup-0'),\n",
       "            (  'rec-330-org', 'rec-330-dup-0'),\n",
       "            ...\n",
       "            (  'rec-5-dup-0',     'rec-5-org'),\n",
       "            ('rec-407-dup-0',   'rec-407-org'),\n",
       "            ('rec-367-dup-0',   'rec-367-org'),\n",
       "            ('rec-103-dup-0',   'rec-103-org'),\n",
       "            ('rec-195-dup-0',   'rec-195-org'),\n",
       "            ('rec-184-dup-0',   'rec-184-org'),\n",
       "            (  'rec-252-org', 'rec-252-dup-0'),\n",
       "            ( 'rec-48-dup-0',    'rec-48-org'),\n",
       "            ('rec-298-dup-0',   'rec-298-org'),\n",
       "            (  'rec-282-org', 'rec-282-dup-0')],\n",
       "           names=['rec_id_1', 'rec_id_2'], length=326)"
      ]
     },
     "execution_count": 11,
     "metadata": {},
     "output_type": "execute_result"
    }
   ],
   "source": [
    "test_classifier.pred_matches(test_feature_setup.features)"
   ]
  },
  {
   "cell_type": "code",
   "execution_count": 12,
   "id": "43e1f49c",
   "metadata": {},
   "outputs": [],
   "source": [
    "test_network_integrator = NetworkIntegration(test_graph, test_classifier.pred_matches(test_feature_setup.features),\n",
    "                                             'walktrap_integration')"
   ]
  },
  {
   "cell_type": "code",
   "execution_count": 13,
   "id": "72e119b0",
   "metadata": {},
   "outputs": [],
   "source": [
    "test_network_integrator.integrate_network()"
   ]
  },
  {
   "cell_type": "code",
   "execution_count": 14,
   "id": "3447d8c7",
   "metadata": {},
   "outputs": [],
   "source": [
    "org_graph = test_network_integrator.graph\n",
    "adj_graph = test_network_integrator.adj_graph"
   ]
  },
  {
   "cell_type": "code",
   "execution_count": 15,
   "id": "405e27e3",
   "metadata": {},
   "outputs": [
    {
     "data": {
      "text/plain": [
       "646"
      ]
     },
     "execution_count": 15,
     "metadata": {},
     "output_type": "execute_result"
    }
   ],
   "source": [
    "len(adj_graph.nodes()) # 646"
   ]
  },
  {
   "cell_type": "code",
   "execution_count": 16,
   "id": "37235b66",
   "metadata": {},
   "outputs": [
    {
     "data": {
      "text/plain": [
       "922"
      ]
     },
     "execution_count": 16,
     "metadata": {},
     "output_type": "execute_result"
    }
   ],
   "source": [
    "len(org_graph.nodes()) # 922"
   ]
  },
  {
   "cell_type": "code",
   "execution_count": null,
   "id": "2751e8f1",
   "metadata": {},
   "outputs": [],
   "source": []
  },
  {
   "cell_type": "code",
   "execution_count": 17,
   "id": "6cb12140",
   "metadata": {},
   "outputs": [],
   "source": [
    "# diffusion model"
   ]
  },
  {
   "cell_type": "code",
   "execution_count": 18,
   "id": "91e23689",
   "metadata": {},
   "outputs": [],
   "source": [
    "model_name = 'sir'\n",
    "statuses = ['Susceptible', 'Infected', 'Removed']\n",
    "compartments = {'NodeStochastic': {'c1': [0.02, 'Infected'], 'c2': [0.01]}}\n",
    "rules = [[\"Susceptible\", \"Infected\", \"c1\"], [\"Infected\", \"Removed\", \"c2\"]]\n",
    "parameters = [['fraction_infected', 0.1]]"
   ]
  },
  {
   "cell_type": "code",
   "execution_count": 19,
   "id": "b1495255",
   "metadata": {},
   "outputs": [],
   "source": [
    "custom_diffusion_model = CustomDiffusionModel(model_name, statuses, compartments,\n",
    "                                             rules, parameters)"
   ]
  },
  {
   "cell_type": "code",
   "execution_count": 20,
   "id": "f4a1a164",
   "metadata": {},
   "outputs": [],
   "source": [
    "g = nx.erdos_renyi_graph(1000, 0.1)\n",
    "initialised_diffusion_model = InitialisedDiffusionModel(g, custom_diffusion_model)"
   ]
  },
  {
   "cell_type": "code",
   "execution_count": 21,
   "id": "2abbb269",
   "metadata": {},
   "outputs": [],
   "source": [
    "initialised_diffusion_model.initialise_model()\n",
    "initialised_diffusion_model.add_statuses()\n",
    "initialised_diffusion_model.add_compartments()\n",
    "initialised_diffusion_model.add_rules()\n",
    "initialised_diffusion_model.set_initial_model_status()"
   ]
  },
  {
   "cell_type": "code",
   "execution_count": 22,
   "id": "ea982b6d",
   "metadata": {},
   "outputs": [],
   "source": [
    "run_diffusion_model = RunDiffusionModel(initialised_diffusion_model, [10, 200, None, 4])"
   ]
  },
  {
   "cell_type": "code",
   "execution_count": 23,
   "id": "f782511b",
   "metadata": {},
   "outputs": [],
   "source": [
    "run_diffusion_model.run_simulations()"
   ]
  },
  {
   "cell_type": "code",
   "execution_count": 34,
   "id": "ecc26b2f",
   "metadata": {},
   "outputs": [
    {
     "name": "stdout",
     "output_type": "stream",
     "text": [
      "no display found. Using non-interactive Agg backend\n"
     ]
    }
   ],
   "source": [
    "from ndlib.viz.mpl.DiffusionTrend import DiffusionTrend\n",
    "\n",
    "viz = DiffusionTrend(initialised_diffusion_model.model, run_diffusion_model.trends)\n",
    "viz.plot(\"diffusion.pdf\", percentile=90)"
   ]
  },
  {
   "cell_type": "code",
   "execution_count": 25,
   "id": "f6538dc1",
   "metadata": {},
   "outputs": [
    {
     "name": "stderr",
     "output_type": "stream",
     "text": [
      "BokehDeprecationWarning: 'legend' keyword is deprecated, use explicit 'legend_label', 'legend_field', or 'legend_group' keywords instead\n",
      "BokehDeprecationWarning: 'legend' keyword is deprecated, use explicit 'legend_label', 'legend_field', or 'legend_group' keywords instead\n",
      "BokehDeprecationWarning: 'legend' keyword is deprecated, use explicit 'legend_label', 'legend_field', or 'legend_group' keywords instead\n"
     ]
    }
   ],
   "source": [
    "our_lib_iterations = initialised_diffusion_model.model.iteration_bunch(200)\n",
    "our_lib_trends = initialised_diffusion_model.model.build_trends(our_lib_iterations)\n",
    "\n",
    "viz = DiffusionTrend(initialised_diffusion_model.model, our_lib_trends)\n",
    "p = viz.plot(width=400, height=400)\n",
    "show(p)"
   ]
  },
  {
   "cell_type": "code",
   "execution_count": 26,
   "id": "333f2b1b",
   "metadata": {},
   "outputs": [
    {
     "name": "stderr",
     "output_type": "stream",
     "text": [
      "BokehDeprecationWarning: 'legend' keyword is deprecated, use explicit 'legend_label', 'legend_field', or 'legend_group' keywords instead\n",
      "BokehDeprecationWarning: 'legend' keyword is deprecated, use explicit 'legend_label', 'legend_field', or 'legend_group' keywords instead\n",
      "BokehDeprecationWarning: 'legend' keyword is deprecated, use explicit 'legend_label', 'legend_field', or 'legend_group' keywords instead\n"
     ]
    }
   ],
   "source": [
    "import ndlib.models.ModelConfig as mc\n",
    "import ndlib.models.CompositeModel as gc\n",
    "import ndlib.models.compartments as cpm\n",
    "\n",
    "# Composite Model instantiation\n",
    "model = gc.CompositeModel(g)\n",
    "\n",
    "# Model statuses\n",
    "model.add_status(\"Susceptible\")\n",
    "model.add_status(\"Infected\")\n",
    "model.add_status(\"Removed\")\n",
    "\n",
    "# Compartment definition\n",
    "c1 = cpm.NodeStochastic(0.02, triggering_status=\"Infected\")\n",
    "c2 = cpm.NodeStochastic(0.01)\n",
    "\n",
    "# Rule definition\n",
    "model.add_rule(\"Susceptible\", \"Infected\", c1)\n",
    "model.add_rule(\"Infected\", \"Removed\", c2)\n",
    "\n",
    "# Model initial status configuration\n",
    "config = mc.Configuration()\n",
    "config.add_model_parameter('fraction_infected', 0.1)\n",
    "\n",
    "# Simulation execution\n",
    "model.set_initial_status(config)\n",
    "\n",
    "iterations = model.iteration_bunch(200)\n",
    "trends = model.build_trends(iterations)\n",
    "\n",
    "viz = DiffusionTrend(model, trends)\n",
    "p = viz.plot(width=400, height=400)\n",
    "show(p)"
   ]
  },
  {
   "cell_type": "code",
   "execution_count": null,
   "id": "997ab4a2",
   "metadata": {},
   "outputs": [],
   "source": []
  }
 ],
 "metadata": {
  "kernelspec": {
   "display_name": "Python 3 (ipykernel)",
   "language": "python",
   "name": "python3"
  },
  "language_info": {
   "codemirror_mode": {
    "name": "ipython",
    "version": 3
   },
   "file_extension": ".py",
   "mimetype": "text/x-python",
   "name": "python",
   "nbconvert_exporter": "python",
   "pygments_lexer": "ipython3",
   "version": "3.8.8"
  }
 },
 "nbformat": 4,
 "nbformat_minor": 5
}
