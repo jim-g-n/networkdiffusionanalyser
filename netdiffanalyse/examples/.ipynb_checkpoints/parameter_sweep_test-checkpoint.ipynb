{
 "cells": [
  {
   "cell_type": "code",
   "execution_count": 1,
   "id": "e2029227",
   "metadata": {},
   "outputs": [
    {
     "name": "stdout",
     "output_type": "stream",
     "text": [
      "no display found. Using non-interactive Agg backend\n",
      "no display found. Using non-interactive Agg backend\n",
      "no display found. Using non-interactive Agg backend\n"
     ]
    }
   ],
   "source": [
    "import sys\n",
    "sys.path.append(\"C:/Users/jnevin/Documents/GitHub/networkdiffusionanalyser\")\n",
    "\n",
    "from netdiffanalyse.parameter_sweeper import CombinationBuilder, ParameterSweeper, MultiNetworkDiffusion\n",
    "from netdiffanalyse.diffusionmodel.diffusionmodel import CustomDiffusionModel, InitialisedDiffusionModel\n",
    "from netdiffanalyse.analyser.networkanalysis import ResultsAnalyser\n",
    "%matplotlib inline"
   ]
  },
  {
   "cell_type": "code",
   "execution_count": 2,
   "id": "45d6da80",
   "metadata": {},
   "outputs": [],
   "source": [
    "import pandas as pd\n",
    "import numpy as np\n",
    "import networkx as nx\n",
    "\n",
    "test_df = pd.read_csv('dedup_test_df.csv')\n",
    "test_df.index = test_df.rec_id\n",
    "test_df = test_df.drop(columns = ['rec_id'])\n",
    "\n",
    "test_matches = np.load('dedup_test_matches.npy', allow_pickle = True)\n",
    "test_matches = pd.MultiIndex.from_tuples(test_matches)\n",
    "\n",
    "test_graph = nx.read_gml('dedup_test_graph.gml')"
   ]
  },
  {
   "cell_type": "code",
   "execution_count": 3,
   "id": "d928400a",
   "metadata": {},
   "outputs": [],
   "source": [
    "test_dict = test_df.to_dict()\n",
    "full_graph_attr = test_graph.copy()\n",
    "\n",
    "for attribute in test_dict:\n",
    "    nx.set_node_attributes(full_graph_attr, test_dict[attribute], attribute)"
   ]
  },
  {
   "cell_type": "code",
   "execution_count": 4,
   "id": "afcd18e8",
   "metadata": {},
   "outputs": [],
   "source": [
    "# different blocking setups\n",
    "test_block_0 = {'Block': [['given_name', 'given_name']]}\n",
    "test_block_1 = {'Block': [['surname', 'surname']]}\n",
    "all_test_blocks = {'test_block_0': test_block_0, 'test_block_1': test_block_1}\n",
    "all_test_blocks = [test_block_0, test_block_1]\n",
    "\n",
    "# different comparison setups\n",
    "test_compare_0 = {'Exact':  [['given_name', 'given_name'], ['date_of_birth', 'date_of_birth'],\n",
    "                          ['suburb', 'suburb'], ['state', 'state']],\n",
    "                'String': [['surname', 'surname', 'jarowinkler', 0.85], ['address_1', 'address_1', 'levenshtein', 0.85]]}\n",
    "\n",
    "test_compare_1 = {'Exact':  [['surname', 'surname'], ['suburb', 'suburb'], ['state', 'state']],\n",
    "                'String': [['given_name', 'given_name', 'jarowinkler', 0.85], ['address_1', 'address_1', 'levenshtein', 0.85]]}\n",
    "\n",
    "all_test_compares = {'test_compare_0': test_compare_0, 'test_compare_1': test_compare_1}\n",
    "all_test_compares = [test_compare_0, test_compare_1]\n",
    "\n",
    "# different classifier setups\n",
    "classifier_name_0 = 'NaiveBayesClassifier'\n",
    "classifier_name_1 = 'LogisticRegressionClassifier'\n",
    "all_classifier_names = {'classifier_name_0': classifier_name_0, 'classifier_name_1': classifier_name_1}\n",
    "all_classifier_names = [classifier_name_0, classifier_name_1]\n",
    "\n",
    "# clustering algorithms\n",
    "clustering_algs = ['walktrap_integration']"
   ]
  },
  {
   "cell_type": "code",
   "execution_count": 5,
   "id": "04e51dd9",
   "metadata": {},
   "outputs": [],
   "source": [
    "combination_builder = CombinationBuilder(all_test_blocks, all_test_compares, all_classifier_names, clustering_algs)\n",
    "integration_setups = combination_builder.get_all_combinations()\n",
    "\n",
    "graphs = [full_graph_attr]\n",
    "training_matches = test_matches\n",
    "\n",
    "parameter_sweeper = ParameterSweeper(integration_setups, graphs, training_matches)\n",
    "different_integrated_networks = parameter_sweeper.get_integrated_networks()"
   ]
  },
  {
   "cell_type": "code",
   "execution_count": 6,
   "id": "21adde4d",
   "metadata": {},
   "outputs": [],
   "source": [
    "# all the other features of the pipeline \n",
    "statuses = ['Susceptible', 'Infected', 'Removed']\n",
    "compartments = {'NodeStochastic': {'c1': [0.02, 'Infected'], 'c2': [0.01]}}\n",
    "transition_rules = [[\"Susceptible\", \"Infected\", \"c1\"], [\"Infected\", \"Removed\", \"c2\"]]\n",
    "model_parameters = [['fraction_infected', 0.1]]\n",
    "simulation_parameters = [4, 300, None, 4]\n",
    "model_name = 'sir'\n",
    "\n",
    "custom_diffusion_model = CustomDiffusionModel(statuses, compartments,\n",
    "                                             transition_rules, model_parameters)\n",
    "# custom_diffusion_model = CustomDiffusionModel.SIR(0.02, 0.01, 0.1)"
   ]
  },
  {
   "cell_type": "code",
   "execution_count": 7,
   "id": "6388146c",
   "metadata": {},
   "outputs": [],
   "source": [
    "multi_network_diffusion = MultiNetworkDiffusion(different_integrated_networks, custom_diffusion_model)\n",
    "graph_assc_results_analysers = multi_network_diffusion.run_diffusion_model(simulation_parameters)"
   ]
  },
  {
   "cell_type": "code",
   "execution_count": 8,
   "id": "6f2469eb",
   "metadata": {},
   "outputs": [
    {
     "data": {
      "image/png": "[encoded data removed]",
      "text/plain": [
       "<Figure size 432x288 with 1 Axes>"
      ]
     },
     "metadata": {
      "needs_background": "light"
     },
     "output_type": "display_data"
    }
   ],
   "source": [
    "graph_assc_results_analysers.plot_trend_comparison([0,1,2])"
   ]
  },
  {
   "cell_type": "code",
   "execution_count": 11,
   "id": "2fb11de6",
   "metadata": {},
   "outputs": [
    {
     "data": {
      "text/html": [
       "<div>\n",
       "<style scoped>\n",
       "    .dataframe tbody tr th:only-of-type {\n",
       "        vertical-align: middle;\n",
       "    }\n",
       "\n",
       "    .dataframe tbody tr th {\n",
       "        vertical-align: top;\n",
       "    }\n",
       "\n",
       "    .dataframe thead th {\n",
       "        text-align: right;\n",
       "    }\n",
       "</style>\n",
       "<table border=\"1\" class=\"dataframe\">\n",
       "  <thead>\n",
       "    <tr style=\"text-align: right;\">\n",
       "      <th></th>\n",
       "      <th>Susceptible_peak</th>\n",
       "      <th>Infected_peak</th>\n",
       "      <th>Removed_peak</th>\n",
       "      <th>Susceptible_final</th>\n",
       "      <th>Infected_final</th>\n",
       "      <th>Removed_final</th>\n",
       "    </tr>\n",
       "  </thead>\n",
       "  <tbody>\n",
       "    <tr>\n",
       "      <th>0</th>\n",
       "      <td>0.900302</td>\n",
       "      <td>0.370468</td>\n",
       "      <td>0.705438</td>\n",
       "      <td>0.198640</td>\n",
       "      <td>0.095921</td>\n",
       "      <td>0.705438</td>\n",
       "    </tr>\n",
       "    <tr>\n",
       "      <th>1</th>\n",
       "      <td>0.900000</td>\n",
       "      <td>0.313176</td>\n",
       "      <td>0.636824</td>\n",
       "      <td>0.279392</td>\n",
       "      <td>0.083784</td>\n",
       "      <td>0.636824</td>\n",
       "    </tr>\n",
       "    <tr>\n",
       "      <th>2</th>\n",
       "      <td>0.900000</td>\n",
       "      <td>0.344203</td>\n",
       "      <td>0.666667</td>\n",
       "      <td>0.219928</td>\n",
       "      <td>0.113406</td>\n",
       "      <td>0.666667</td>\n",
       "    </tr>\n",
       "    <tr>\n",
       "      <th>3</th>\n",
       "      <td>0.900243</td>\n",
       "      <td>0.305049</td>\n",
       "      <td>0.617397</td>\n",
       "      <td>0.297749</td>\n",
       "      <td>0.084854</td>\n",
       "      <td>0.617397</td>\n",
       "    </tr>\n",
       "    <tr>\n",
       "      <th>4</th>\n",
       "      <td>0.900602</td>\n",
       "      <td>0.361069</td>\n",
       "      <td>0.692771</td>\n",
       "      <td>0.211596</td>\n",
       "      <td>0.095633</td>\n",
       "      <td>0.692771</td>\n",
       "    </tr>\n",
       "    <tr>\n",
       "      <th>5</th>\n",
       "      <td>0.900531</td>\n",
       "      <td>0.335544</td>\n",
       "      <td>0.639920</td>\n",
       "      <td>0.274204</td>\n",
       "      <td>0.085875</td>\n",
       "      <td>0.639920</td>\n",
       "    </tr>\n",
       "    <tr>\n",
       "      <th>6</th>\n",
       "      <td>0.900439</td>\n",
       "      <td>0.371889</td>\n",
       "      <td>0.696925</td>\n",
       "      <td>0.230966</td>\n",
       "      <td>0.072108</td>\n",
       "      <td>0.696925</td>\n",
       "    </tr>\n",
       "    <tr>\n",
       "      <th>7</th>\n",
       "      <td>0.900374</td>\n",
       "      <td>0.296389</td>\n",
       "      <td>0.605853</td>\n",
       "      <td>0.309465</td>\n",
       "      <td>0.084682</td>\n",
       "      <td>0.605853</td>\n",
       "    </tr>\n",
       "  </tbody>\n",
       "</table>\n",
       "</div>"
      ],
      "text/plain": [
       "   Susceptible_peak  Infected_peak  Removed_peak  Susceptible_final  \\\n",
       "0          0.900302       0.370468      0.705438           0.198640   \n",
       "1          0.900000       0.313176      0.636824           0.279392   \n",
       "2          0.900000       0.344203      0.666667           0.219928   \n",
       "3          0.900243       0.305049      0.617397           0.297749   \n",
       "4          0.900602       0.361069      0.692771           0.211596   \n",
       "5          0.900531       0.335544      0.639920           0.274204   \n",
       "6          0.900439       0.371889      0.696925           0.230966   \n",
       "7          0.900374       0.296389      0.605853           0.309465   \n",
       "\n",
       "   Infected_final  Removed_final  \n",
       "0        0.095921       0.705438  \n",
       "1        0.083784       0.636824  \n",
       "2        0.113406       0.666667  \n",
       "3        0.084854       0.617397  \n",
       "4        0.095633       0.692771  \n",
       "5        0.085875       0.639920  \n",
       "6        0.072108       0.696925  \n",
       "7        0.084682       0.605853  "
      ]
     },
     "execution_count": 11,
     "metadata": {},
     "output_type": "execute_result"
    }
   ],
   "source": [
    "graph_assc_results_analysers.get_average_stat_comparison([0, 1, 2])"
   ]
  },
  {
   "cell_type": "code",
   "execution_count": 10,
   "id": "50d9f357",
   "metadata": {},
   "outputs": [
    {
     "data": {
      "text/html": [
       "<div>\n",
       "<style scoped>\n",
       "    .dataframe tbody tr th:only-of-type {\n",
       "        vertical-align: middle;\n",
       "    }\n",
       "\n",
       "    .dataframe tbody tr th {\n",
       "        vertical-align: top;\n",
       "    }\n",
       "\n",
       "    .dataframe thead th {\n",
       "        text-align: right;\n",
       "    }\n",
       "</style>\n",
       "<table border=\"1\" class=\"dataframe\">\n",
       "  <thead>\n",
       "    <tr style=\"text-align: right;\">\n",
       "      <th></th>\n",
       "      <th>num_nodes</th>\n",
       "      <th>num_edges</th>\n",
       "      <th>connected</th>\n",
       "      <th>degree_cent</th>\n",
       "      <th>betweenness</th>\n",
       "      <th>closeness</th>\n",
       "    </tr>\n",
       "  </thead>\n",
       "  <tbody>\n",
       "    <tr>\n",
       "      <th>0</th>\n",
       "      <td>662</td>\n",
       "      <td>996</td>\n",
       "      <td>False</td>\n",
       "      <td>{'rec-223-org': 0.024205748865355523, 'rec-373...</td>\n",
       "      <td>{'rec-223-org': 0.04745773944471742, 'rec-373-...</td>\n",
       "      <td>{'rec-223-org': 0.2743206913940911, 'rec-373-o...</td>\n",
       "    </tr>\n",
       "    <tr>\n",
       "      <th>1</th>\n",
       "      <td>740</td>\n",
       "      <td>996</td>\n",
       "      <td>False</td>\n",
       "      <td>{'rec-223-org': 0.02165087956698241, 'rec-373-...</td>\n",
       "      <td>{'rec-223-org': 0.051464180507196394, 'rec-373...</td>\n",
       "      <td>{'rec-223-org': 0.2587759313803971, 'rec-373-o...</td>\n",
       "    </tr>\n",
       "    <tr>\n",
       "      <th>2</th>\n",
       "      <td>690</td>\n",
       "      <td>996</td>\n",
       "      <td>False</td>\n",
       "      <td>{'rec-223-org': 0.023222060957910014, 'rec-373...</td>\n",
       "      <td>{'rec-223-org': 0.04622736779569344, 'rec-373-...</td>\n",
       "      <td>{'rec-223-org': 0.2674329526093267, 'rec-373-o...</td>\n",
       "    </tr>\n",
       "  </tbody>\n",
       "</table>\n",
       "</div>"
      ],
      "text/plain": [
       "   num_nodes  num_edges  connected  \\\n",
       "0        662        996      False   \n",
       "1        740        996      False   \n",
       "2        690        996      False   \n",
       "\n",
       "                                         degree_cent  \\\n",
       "0  {'rec-223-org': 0.024205748865355523, 'rec-373...   \n",
       "1  {'rec-223-org': 0.02165087956698241, 'rec-373-...   \n",
       "2  {'rec-223-org': 0.023222060957910014, 'rec-373...   \n",
       "\n",
       "                                         betweenness  \\\n",
       "0  {'rec-223-org': 0.04745773944471742, 'rec-373-...   \n",
       "1  {'rec-223-org': 0.051464180507196394, 'rec-373...   \n",
       "2  {'rec-223-org': 0.04622736779569344, 'rec-373-...   \n",
       "\n",
       "                                           closeness  \n",
       "0  {'rec-223-org': 0.2743206913940911, 'rec-373-o...  \n",
       "1  {'rec-223-org': 0.2587759313803971, 'rec-373-o...  \n",
       "2  {'rec-223-org': 0.2674329526093267, 'rec-373-o...  "
      ]
     },
     "execution_count": 10,
     "metadata": {},
     "output_type": "execute_result"
    }
   ],
   "source": [
    "graph_assc_results_analysers.get_graph_prop_comparison([0,1,2])"
   ]
  },
  {
   "cell_type": "code",
   "execution_count": null,
   "id": "07d7b9ac",
   "metadata": {},
   "outputs": [],
   "source": []
  },
  {
   "cell_type": "code",
   "execution_count": null,
   "id": "4cf1a59e",
   "metadata": {},
   "outputs": [],
   "source": []
  },
  {
   "cell_type": "code",
   "execution_count": null,
   "id": "f12cfd72",
   "metadata": {},
   "outputs": [],
   "source": []
  },
  {
   "cell_type": "code",
   "execution_count": null,
   "id": "834c4b65",
   "metadata": {},
   "outputs": [],
   "source": []
  }
 ],
 "metadata": {
  "kernelspec": {
   "display_name": "Python 3 (ipykernel)",
   "language": "python",
   "name": "python3"
  },
  "language_info": {
   "codemirror_mode": {
    "name": "ipython",
    "version": 3
   },
   "file_extension": ".py",
   "mimetype": "text/x-python",
   "name": "python",
   "nbconvert_exporter": "python",
   "pygments_lexer": "ipython3",
   "version": "3.8.8"
  }
 },
 "nbformat": 4,
 "nbformat_minor": 5
}
