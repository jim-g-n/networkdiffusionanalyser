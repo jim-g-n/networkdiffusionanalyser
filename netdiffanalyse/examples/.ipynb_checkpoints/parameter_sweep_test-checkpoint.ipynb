{
 "cells": [
  {
   "cell_type": "code",
   "execution_count": 4,
   "id": "e2029227",
   "metadata": {},
   "outputs": [],
   "source": [
    "import sys\n",
    "sys.path.append(\"C:/Users/jnevin/Documents/GitHub/networkdiffusionanalyser\")\n",
    "\n",
    "from netdiffanalyse.parameter_sweeper import CombinationBuilder, ParameterSweeper, MultiNetworkDiffusion\n",
    "from netdiffanalyse.diffusionmodel.diffusionmodel import CustomDiffusionModel\n",
    "%matplotlib inline"
   ]
  },
  {
   "cell_type": "code",
   "execution_count": 5,
   "id": "45d6da80",
   "metadata": {},
   "outputs": [],
   "source": [
    "import pandas as pd\n",
    "import numpy as np\n",
    "import networkx as nx\n",
    "\n",
    "test_df = pd.read_csv('dedup_test_df.csv')\n",
    "test_df.index = test_df.rec_id\n",
    "test_df = test_df.drop(columns = ['rec_id'])\n",
    "\n",
    "test_matches = np.load('dedup_test_matches.npy', allow_pickle = True)\n",
    "test_matches = pd.MultiIndex.from_tuples(test_matches)\n",
    "\n",
    "test_graph = nx.read_gml('dedup_test_graph.gml')"
   ]
  },
  {
   "cell_type": "code",
   "execution_count": 6,
   "id": "d928400a",
   "metadata": {},
   "outputs": [],
   "source": [
    "test_dict = test_df.to_dict()\n",
    "full_graph_attr = test_graph.copy()\n",
    "\n",
    "for attribute in test_dict:\n",
    "    nx.set_node_attributes(full_graph_attr, test_dict[attribute], attribute)"
   ]
  },
  {
   "cell_type": "code",
   "execution_count": 7,
   "id": "afcd18e8",
   "metadata": {},
   "outputs": [],
   "source": [
    "# different blocking setups\n",
    "test_block_0 = {'Block': [['given_name', 'given_name']]}\n",
    "test_block_1 = {'Block': [['surname', 'surname']]}\n",
    "all_test_blocks = [test_block_0, test_block_1]\n",
    "\n",
    "# different comparison setups\n",
    "test_compare_0 = {'Exact':  [['given_name', 'given_name'], ['date_of_birth', 'date_of_birth'],\n",
    "                          ['suburb', 'suburb'], ['state', 'state']],\n",
    "                'String': [['surname', 'surname', 'jarowinkler', 0.85], ['address_1', 'address_1', 'levenshtein', 0.85]]}\n",
    "\n",
    "test_compare_1 = {'Exact':  [['surname', 'surname'], ['suburb', 'suburb'], ['state', 'state']],\n",
    "                'String': [['given_name', 'given_name', 'jarowinkler', 0.85], ['address_1', 'address_1', 'levenshtein', 0.85]]}\n",
    "\n",
    "all_test_compares = [test_compare_0, test_compare_1]\n",
    "\n",
    "# different classifier setups\n",
    "classifier_name_0 = 'NaiveBayesClassifier'\n",
    "classifier_name_1 = 'LogisticRegressionClassifier'\n",
    "all_classifier_names = [classifier_name_0, classifier_name_1]\n",
    "\n",
    "# clustering algorithms\n",
    "clustering_algs = ['walktrap_integration']"
   ]
  },
  {
   "cell_type": "code",
   "execution_count": 8,
   "id": "04e51dd9",
   "metadata": {},
   "outputs": [],
   "source": [
    "combination_builder = CombinationBuilder(all_test_blocks, all_test_compares, all_classifier_names, clustering_algs)\n",
    "integration_setups = combination_builder.get_all_combinations()\n",
    "\n",
    "graphs = [full_graph_attr]\n",
    "training_matches = test_matches\n",
    "\n",
    "parameter_sweeper = ParameterSweeper(integration_setups, graphs, training_matches)\n",
    "different_integrated_networks = parameter_sweeper.get_integrated_networks()"
   ]
  },
  {
   "cell_type": "code",
   "execution_count": 9,
   "id": "c73cb451",
   "metadata": {},
   "outputs": [
    {
     "data": {
      "text/plain": [
       "[<networkx.classes.graph.Graph at 0x16624b29280>,\n",
       " <networkx.classes.graph.Graph at 0x16623f75700>,\n",
       " <networkx.classes.graph.Graph at 0x16623f75ee0>,\n",
       " <networkx.classes.graph.Graph at 0x16624b07640>,\n",
       " <networkx.classes.graph.Graph at 0x16623fe8820>,\n",
       " <networkx.classes.graph.Graph at 0x16624b2f6a0>,\n",
       " <networkx.classes.graph.Graph at 0x16624e3eca0>,\n",
       " <networkx.classes.graph.Graph at 0x16624e3cac0>]"
      ]
     },
     "execution_count": 9,
     "metadata": {},
     "output_type": "execute_result"
    }
   ],
   "source": [
    "different_integrated_networks"
   ]
  },
  {
   "cell_type": "code",
   "execution_count": 10,
   "id": "21adde4d",
   "metadata": {},
   "outputs": [],
   "source": [
    "# all the other features of the pipeline \n",
    "statuses = ['Susceptible', 'Infected', 'Removed']\n",
    "compartments = {'NodeStochastic': {'c1': [0.02, 'Infected'], 'c2': [0.01]}}\n",
    "transition_rules = [[\"Susceptible\", \"Infected\", \"c1\"], [\"Infected\", \"Removed\", \"c2\"]]\n",
    "model_parameters = [['fraction_infected', 0.1]]\n",
    "simulation_parameters = [5, 600, None, 5]\n",
    "model_name = 'sir'\n",
    "\n",
    "custom_diffusion_model = CustomDiffusionModel(statuses, compartments,\n",
    "                                             transition_rules, model_parameters)\n",
    "# custom_diffusion_model = CustomDiffusionModel.SIR(0.02, 0.01, 0.1)"
   ]
  },
  {
   "cell_type": "code",
   "execution_count": 11,
   "id": "6388146c",
   "metadata": {},
   "outputs": [],
   "source": [
    "multi_network_diffusion = MultiNetworkDiffusion(different_integrated_networks, custom_diffusion_model)\n",
    "graph_assc_results_analysers = multi_network_diffusion.run_diffusion_model(simulation_parameters)"
   ]
  },
  {
   "cell_type": "code",
   "execution_count": 12,
   "id": "2fb11de6",
   "metadata": {},
   "outputs": [
    {
     "data": {
      "text/html": [
       "<div>\n",
       "<style scoped>\n",
       "    .dataframe tbody tr th:only-of-type {\n",
       "        vertical-align: middle;\n",
       "    }\n",
       "\n",
       "    .dataframe tbody tr th {\n",
       "        vertical-align: top;\n",
       "    }\n",
       "\n",
       "    .dataframe thead th {\n",
       "        text-align: right;\n",
       "    }\n",
       "</style>\n",
       "<table border=\"1\" class=\"dataframe\">\n",
       "  <thead>\n",
       "    <tr style=\"text-align: right;\">\n",
       "      <th></th>\n",
       "      <th>Susceptible_peak</th>\n",
       "      <th>Infected_peak</th>\n",
       "      <th>Removed_peak</th>\n",
       "      <th>Susceptible_final</th>\n",
       "      <th>Infected_final</th>\n",
       "      <th>Removed_final</th>\n",
       "    </tr>\n",
       "  </thead>\n",
       "  <tbody>\n",
       "    <tr>\n",
       "      <th>0</th>\n",
       "      <td>0.900302</td>\n",
       "      <td>0.366767</td>\n",
       "      <td>0.798792</td>\n",
       "      <td>0.197885</td>\n",
       "      <td>0.003323</td>\n",
       "      <td>0.798792</td>\n",
       "    </tr>\n",
       "    <tr>\n",
       "      <th>1</th>\n",
       "      <td>0.900000</td>\n",
       "      <td>0.329459</td>\n",
       "      <td>0.758378</td>\n",
       "      <td>0.236216</td>\n",
       "      <td>0.005405</td>\n",
       "      <td>0.758378</td>\n",
       "    </tr>\n",
       "    <tr>\n",
       "      <th>2</th>\n",
       "      <td>0.900000</td>\n",
       "      <td>0.348116</td>\n",
       "      <td>0.769565</td>\n",
       "      <td>0.224928</td>\n",
       "      <td>0.005507</td>\n",
       "      <td>0.769565</td>\n",
       "    </tr>\n",
       "  </tbody>\n",
       "</table>\n",
       "</div>"
      ],
      "text/plain": [
       "   Susceptible_peak  Infected_peak  Removed_peak  Susceptible_final  \\\n",
       "0          0.900302       0.366767      0.798792           0.197885   \n",
       "1          0.900000       0.329459      0.758378           0.236216   \n",
       "2          0.900000       0.348116      0.769565           0.224928   \n",
       "\n",
       "   Infected_final  Removed_final  \n",
       "0        0.003323       0.798792  \n",
       "1        0.005405       0.758378  \n",
       "2        0.005507       0.769565  "
      ]
     },
     "execution_count": 12,
     "metadata": {},
     "output_type": "execute_result"
    }
   ],
   "source": [
    "graph_assc_results_analysers.get_average_stat_comparison([0,1,2])"
   ]
  },
  {
   "cell_type": "code",
   "execution_count": null,
   "id": "50d9f357",
   "metadata": {},
   "outputs": [],
   "source": [
    "graph_assc_results_analysers.get_graph_prop_comparison()"
   ]
  },
  {
   "cell_type": "code",
   "execution_count": null,
   "id": "07d7b9ac",
   "metadata": {},
   "outputs": [],
   "source": []
  },
  {
   "cell_type": "code",
   "execution_count": null,
   "id": "4cf1a59e",
   "metadata": {},
   "outputs": [],
   "source": []
  },
  {
   "cell_type": "code",
   "execution_count": null,
   "id": "f12cfd72",
   "metadata": {},
   "outputs": [],
   "source": []
  },
  {
   "cell_type": "code",
   "execution_count": null,
   "id": "834c4b65",
   "metadata": {},
   "outputs": [],
   "source": []
  }
 ],
 "metadata": {
  "kernelspec": {
   "display_name": "Python 3 (ipykernel)",
   "language": "python",
   "name": "python3"
  },
  "language_info": {
   "codemirror_mode": {
    "name": "ipython",
    "version": 3
   },
   "file_extension": ".py",
   "mimetype": "text/x-python",
   "name": "python",
   "nbconvert_exporter": "python",
   "pygments_lexer": "ipython3",
   "version": "3.8.8"
  }
 },
 "nbformat": 4,
 "nbformat_minor": 5
}
