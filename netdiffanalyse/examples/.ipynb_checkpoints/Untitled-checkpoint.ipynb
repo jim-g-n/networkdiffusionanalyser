{
 "cells": [
  {
   "cell_type": "code",
   "execution_count": 1,
   "id": "660df8bd",
   "metadata": {},
   "outputs": [
    {
     "ename": "AttributeError",
     "evalue": "'ModelConfiguration' object has no attribute 'keys'",
     "output_type": "error",
     "traceback": [
      "\u001b[1;31m---------------------------------------------------------------------------\u001b[0m",
      "\u001b[1;31mAttributeError\u001b[0m                            Traceback (most recent call last)",
      "Input \u001b[1;32mIn [1]\u001b[0m, in \u001b[0;36m<cell line: 15>\u001b[1;34m()\u001b[0m\n\u001b[0;32m      9\u001b[0m constants \u001b[38;5;241m=\u001b[39m {\n\u001b[0;32m     10\u001b[0m     \u001b[38;5;124m'\u001b[39m\u001b[38;5;124mconstant_1\u001b[39m\u001b[38;5;124m'\u001b[39m: \u001b[38;5;241m0.1\u001b[39m,\n\u001b[0;32m     11\u001b[0m     \u001b[38;5;124m'\u001b[39m\u001b[38;5;124mconstant_2\u001b[39m\u001b[38;5;124m'\u001b[39m: \u001b[38;5;241m2.5\u001b[39m\n\u001b[0;32m     12\u001b[0m }\n\u001b[0;32m     14\u001b[0m cfg \u001b[38;5;241m=\u001b[39m ModelConfiguration() \u001b[38;5;66;03m# A configuration object for the model\u001b[39;00m\n\u001b[1;32m---> 15\u001b[0m model \u001b[38;5;241m=\u001b[39m Model(g, \u001b[43mModelConfiguration\u001b[49m\u001b[43m(\u001b[49m\u001b[43mcfg\u001b[49m\u001b[43m)\u001b[49m) \u001b[38;5;66;03m# Initialize a model object\u001b[39;00m\n\u001b[0;32m     16\u001b[0m model\u001b[38;5;241m.\u001b[39mconstants \u001b[38;5;241m=\u001b[39m constants \u001b[38;5;66;03m# Set the constants\u001b[39;00m\n\u001b[0;32m     17\u001b[0m model\u001b[38;5;241m.\u001b[39mset_states([\u001b[38;5;124m'\u001b[39m\u001b[38;5;124mstate1\u001b[39m\u001b[38;5;124m'\u001b[39m, \u001b[38;5;124m'\u001b[39m\u001b[38;5;124mstate2\u001b[39m\u001b[38;5;124m'\u001b[39m])\n",
      "File \u001b[1;32m~\\Anaconda3\\lib\\site-packages\\dynsimf\\models\\Model.py:32\u001b[0m, in \u001b[0;36mModelConfiguration.__init__\u001b[1;34m(self, cfg)\u001b[0m\n\u001b[0;32m     30\u001b[0m \u001b[38;5;28;01mdef\u001b[39;00m \u001b[38;5;21m__init__\u001b[39m(\u001b[38;5;28mself\u001b[39m, cfg\u001b[38;5;241m=\u001b[39m\u001b[38;5;28;01mNone\u001b[39;00m):\n\u001b[0;32m     31\u001b[0m     cfg \u001b[38;5;241m=\u001b[39m cfg \u001b[38;5;28;01mif\u001b[39;00m cfg \u001b[38;5;28;01melse\u001b[39;00m {}\n\u001b[1;32m---> 32\u001b[0m     cfg_keys \u001b[38;5;241m=\u001b[39m \u001b[38;5;28mlist\u001b[39m(\u001b[43mcfg\u001b[49m\u001b[38;5;241;43m.\u001b[39;49m\u001b[43mkeys\u001b[49m())\n\u001b[0;32m     34\u001b[0m     \u001b[38;5;28mself\u001b[39m\u001b[38;5;241m.\u001b[39mstate_memory_config \u001b[38;5;241m=\u001b[39m \\\n\u001b[0;32m     35\u001b[0m         MemoryConfiguration(MemoryConfigurationType\u001b[38;5;241m.\u001b[39mSTATE, {\n\u001b[0;32m     36\u001b[0m             \u001b[38;5;124m'\u001b[39m\u001b[38;5;124mmemory_size\u001b[39m\u001b[38;5;124m'\u001b[39m: \u001b[38;5;241m0\u001b[39m\n\u001b[0;32m     37\u001b[0m         }) \\\n\u001b[0;32m     38\u001b[0m         \u001b[38;5;28;01mif\u001b[39;00m \u001b[38;5;124m'\u001b[39m\u001b[38;5;124mstate_memory_config\u001b[39m\u001b[38;5;124m'\u001b[39m \u001b[38;5;129;01mnot\u001b[39;00m \u001b[38;5;129;01min\u001b[39;00m cfg_keys \\\n\u001b[0;32m     39\u001b[0m         \u001b[38;5;28;01melse\u001b[39;00m cfg[\u001b[38;5;124m'\u001b[39m\u001b[38;5;124mstate_memory_config\u001b[39m\u001b[38;5;124m'\u001b[39m]\n\u001b[0;32m     40\u001b[0m     \u001b[38;5;28mself\u001b[39m\u001b[38;5;241m.\u001b[39madjacency_memory_config \u001b[38;5;241m=\u001b[39m \\\n\u001b[0;32m     41\u001b[0m         MemoryConfiguration(MemoryConfigurationType\u001b[38;5;241m.\u001b[39mADJACENCY, {\n\u001b[0;32m     42\u001b[0m             \u001b[38;5;124m'\u001b[39m\u001b[38;5;124mmemory_size\u001b[39m\u001b[38;5;124m'\u001b[39m: \u001b[38;5;241m-\u001b[39m\u001b[38;5;241m1\u001b[39m\n\u001b[0;32m     43\u001b[0m         }) \\\n\u001b[0;32m     44\u001b[0m         \u001b[38;5;28;01mif\u001b[39;00m \u001b[38;5;124m'\u001b[39m\u001b[38;5;124madjacency_memory_config\u001b[39m\u001b[38;5;124m'\u001b[39m \u001b[38;5;129;01mnot\u001b[39;00m \u001b[38;5;129;01min\u001b[39;00m cfg_keys \\\n\u001b[0;32m     45\u001b[0m         \u001b[38;5;28;01melse\u001b[39;00m cfg[\u001b[38;5;124m'\u001b[39m\u001b[38;5;124madjacency_memory_config\u001b[39m\u001b[38;5;124m'\u001b[39m]\n",
      "\u001b[1;31mAttributeError\u001b[0m: 'ModelConfiguration' object has no attribute 'keys'"
     ]
    }
   ],
   "source": [
    "import networkx as nx\n",
    "from dynsimf.models.Model import Model\n",
    "from dynsimf.models.Model import ModelConfiguration\n",
    "\n",
    "# Create an initial graph\n",
    "g = nx.erdos_renyi_graph(n=1000, p=0.1)\n",
    "\n",
    "# Create the constants dictionary\n",
    "constants = {\n",
    "    'constant_1': 0.1,\n",
    "    'constant_2': 2.5\n",
    "}\n",
    "\n",
    "cfg = ModelConfiguration() # A configuration object for the model\n",
    "model = Model(g, ModelConfiguration(cfg)) # Initialize a model object\n",
    "model.constants = constants # Set the constants\n",
    "model.set_states(['state1', 'state2']) # Add the states to the model"
   ]
  },
  {
   "cell_type": "code",
   "execution_count": null,
   "id": "aa1b45df",
   "metadata": {},
   "outputs": [],
   "source": []
  },
  {
   "cell_type": "code",
   "execution_count": null,
   "id": "5c84d3b9",
   "metadata": {},
   "outputs": [],
   "source": []
  },
  {
   "cell_type": "code",
   "execution_count": null,
   "id": "d92e66b4",
   "metadata": {},
   "outputs": [],
   "source": []
  },
  {
   "cell_type": "code",
   "execution_count": null,
   "id": "aa2a47f5",
   "metadata": {},
   "outputs": [],
   "source": []
  }
 ],
 "metadata": {
  "kernelspec": {
   "display_name": "Python 3 (ipykernel)",
   "language": "python",
   "name": "python3"
  },
  "language_info": {
   "codemirror_mode": {
    "name": "ipython",
    "version": 3
   },
   "file_extension": ".py",
   "mimetype": "text/x-python",
   "name": "python",
   "nbconvert_exporter": "python",
   "pygments_lexer": "ipython3",
   "version": "3.8.8"
  }
 },
 "nbformat": 4,
 "nbformat_minor": 5
}
