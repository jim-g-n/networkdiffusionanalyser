{
 "cells": [
  {
   "cell_type": "code",
   "execution_count": 1,
   "id": "d73b1616",
   "metadata": {},
   "outputs": [],
   "source": [
    "import sys\n",
    "sys.path.append(\"C:/Users/jnevin/Documents/GitHub/networkdiffusionanalyser\")\n",
    "\n",
    "from netdiffanalyse.datahandling.dataintegration import FeatureSetup, MatchClassifier, NetworkIntegrator"
   ]
  },
  {
   "cell_type": "code",
   "execution_count": 2,
   "id": "c06cd462",
   "metadata": {},
   "outputs": [],
   "source": [
    "import pandas as pd\n",
    "import numpy as np\n",
    "import networkx as nx\n",
    "\n",
    "test_dfA = pd.read_csv('record_linkage_test_dfA.csv')\n",
    "test_dfA.index = test_dfA.rec_id\n",
    "test_dfA = test_dfA.drop(columns = ['rec_id'])\n",
    "\n",
    "test_dfB = pd.read_csv('record_linkage_test_dfB.csv')\n",
    "test_dfB.index = test_dfB.rec_id\n",
    "test_dfB = test_dfB.drop(columns = ['rec_id'])"
   ]
  },
  {
   "cell_type": "code",
   "execution_count": 3,
   "id": "818b5972",
   "metadata": {},
   "outputs": [],
   "source": [
    "test_blocks = {'Block': [['given_name', 'given_name']]}\n",
    "test_compares = {'Exact':  [['given_name', 'given_name'], ['date_of_birth', 'date_of_birth'],\n",
    "                          ['suburb', 'suburb'], ['state', 'state']],\n",
    "                'String': [['surname', 'surname', 'jarowinkler', 0.85], ['address_1', 'address_1', 'levenshtein', 0.85]]}"
   ]
  },
  {
   "cell_type": "code",
   "execution_count": 4,
   "id": "f3307f32",
   "metadata": {},
   "outputs": [],
   "source": [
    "test_feature_setup = FeatureSetup(test_blocks, test_compares, test_dfA, test_dfB)\n",
    "test_features = test_feature_setup.calculate_features()"
   ]
  },
  {
   "cell_type": "code",
   "execution_count": 5,
   "id": "c28a1d9a",
   "metadata": {},
   "outputs": [
    {
     "data": {
      "text/plain": [
       "6.0     1566\n",
       "5.0     1332\n",
       "4.0      343\n",
       "3.0      146\n",
       "2.0    16427\n",
       "1.0    57435\n",
       "dtype: int64"
      ]
     },
     "execution_count": 5,
     "metadata": {},
     "output_type": "execute_result"
    }
   ],
   "source": [
    "test_features.sum(axis=1).value_counts().sort_index(ascending=False) # 1566, 1332, 343, 146, 16427, 57435"
   ]
  },
  {
   "cell_type": "code",
   "execution_count": 6,
   "id": "1b2d3509",
   "metadata": {},
   "outputs": [],
   "source": [
    "test_classifier = MatchClassifier('ECMClassifier', test_features)\n",
    "classifier_model = test_classifier.fit_model()\n",
    "pred_matches = classifier_model.predict(test_features)"
   ]
  },
  {
   "cell_type": "code",
   "execution_count": 7,
   "id": "37307190",
   "metadata": {},
   "outputs": [
    {
     "data": {
      "text/plain": [
       "MultiIndex([('rec-2371-org', 'rec-2371-dup-0'),\n",
       "            ('rec-3024-org', 'rec-3024-dup-0'),\n",
       "            ('rec-4652-org', 'rec-4652-dup-0'),\n",
       "            ('rec-4795-org', 'rec-4795-dup-0'),\n",
       "            ('rec-1016-org', 'rec-1016-dup-0'),\n",
       "            ('rec-2463-org', 'rec-2463-dup-0'),\n",
       "            ( 'rec-521-org',  'rec-521-dup-0'),\n",
       "            ('rec-1151-org', 'rec-1151-dup-0'),\n",
       "            ( 'rec-786-org',  'rec-786-dup-0'),\n",
       "            ( 'rec-572-org',  'rec-572-dup-0'),\n",
       "            ...\n",
       "            ('rec-1413-org', 'rec-1413-dup-0'),\n",
       "            ( 'rec-735-org',  'rec-735-dup-0'),\n",
       "            ('rec-1361-org', 'rec-1361-dup-0'),\n",
       "            ('rec-3090-org', 'rec-3090-dup-0'),\n",
       "            ('rec-2571-org', 'rec-2571-dup-0'),\n",
       "            ('rec-4528-org', 'rec-4528-dup-0'),\n",
       "            ('rec-4887-org', 'rec-4887-dup-0'),\n",
       "            ('rec-4350-org', 'rec-4350-dup-0'),\n",
       "            ('rec-4569-org', 'rec-4569-dup-0'),\n",
       "            ('rec-3125-org', 'rec-3125-dup-0')],\n",
       "           names=['rec_id_1', 'rec_id_2'], length=3261)"
      ]
     },
     "execution_count": 7,
     "metadata": {},
     "output_type": "execute_result"
    }
   ],
   "source": [
    "pred_matches # len 3261, all matches seen correct"
   ]
  },
  {
   "cell_type": "code",
   "execution_count": null,
   "id": "a6e860dc",
   "metadata": {},
   "outputs": [],
   "source": []
  }
 ],
 "metadata": {
  "kernelspec": {
   "display_name": "Python 3 (ipykernel)",
   "language": "python",
   "name": "python3"
  },
  "language_info": {
   "codemirror_mode": {
    "name": "ipython",
    "version": 3
   },
   "file_extension": ".py",
   "mimetype": "text/x-python",
   "name": "python",
   "nbconvert_exporter": "python",
   "pygments_lexer": "ipython3",
   "version": "3.8.8"
  }
 },
 "nbformat": 4,
 "nbformat_minor": 5
}
